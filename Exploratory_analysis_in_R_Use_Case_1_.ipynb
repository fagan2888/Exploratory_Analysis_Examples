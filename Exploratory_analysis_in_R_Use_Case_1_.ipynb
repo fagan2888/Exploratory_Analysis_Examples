{
  "nbformat": 4,
  "nbformat_minor": 0,
  "metadata": {
    "colab": {
      "name": "Exploratory analysis in R_Use Case 1 .ipynb",
      "provenance": [],
      "collapsed_sections": []
    },
    "kernelspec": {
      "name": "python3",
      "display_name": "Python 3"
    }
  },
  "cells": [
    {
      "cell_type": "code",
      "metadata": {
        "id": "obPthXWEvgEs",
        "colab_type": "code",
        "colab": {}
      },
      "source": [
        "# Allow R\n",
        "%load_ext rpy2.ipython"
      ],
      "execution_count": 0,
      "outputs": []
    },
    {
      "cell_type": "markdown",
      "metadata": {
        "id": "XUV5NZR51blI",
        "colab_type": "text"
      },
      "source": [
        "**Exploratory analysis of Airline website promotion offerings**\n",
        "\n",
        "\n",
        "*Use Case:*\n",
        "Your working as a consultant for a marketing team for one of the airlines.  The particular airline is postioned as a low-cost carrier with dynamic brand full of personality. \n",
        "\n",
        "*Problem Statement:*\n",
        "Assessing market dynamics over the past few years, you and the team have decided to invest heavily in search engine marketing, so it's important to keep your finger on the pulse of those search engine campaigns and how well they're performing. \n",
        "\n",
        "\n",
        "*Business Question/ Target:* what would you look to decide performance? \n",
        "\n",
        "*Business Analysis:*\n",
        "A highly effective concept of marketing campaigns of this s ort is to look at the paid search impressions. This is great leading indicator that will help us to know how many users are finding our brand and our promotions via certain key-words.\n",
        "\n",
        "Data Analysis (of the columns in the dataset):\n",
        "\n",
        "CTR: Click-through rate (which helps us understand how effectively our ads are at addressing what customers are really looking for.)\n",
        "\n",
        "CPA: Cost per aquistion, (which helps us to truly understand our return on investment and our converstation)\n",
        "\n",
        "( above are the metrics that matters the most for our analysis)\n",
        "\n",
        "CVR: Coversion Rate\n",
        "\n",
        "CPC: Cost Per Click\n",
        "\n",
        "Clicks: Number of clicks\n",
        "\n",
        "Impressions:\n",
        "\n",
        "Keywords: Campaign key words\n",
        "\n",
        "And again, leading and lagging indicators that help our marketting campaigns to ladder up to business impact. If we move our CTR rate forward, chances are we've made some informed decisions now here that will also have a positive impact on our cost per acquistion, so on and so forth.\n",
        "\n",
        "Visualizing these data will give us some patterns, which will help us to create a narative and can help us to create an intitution for what deeper analysis and specific models might reveal. \n",
        "\n",
        "\n"
      ]
    },
    {
      "cell_type": "markdown",
      "metadata": {
        "id": "aumVfdWjL5NC",
        "colab_type": "text"
      },
      "source": [
        "**Make sure to put '%%R' in each cell line , for  R language to work properly!**"
      ]
    },
    {
      "cell_type": "code",
      "metadata": {
        "id": "jP-lylsmz0N1",
        "colab_type": "code",
        "colab": {}
      },
      "source": [
        "%%R\n",
        "# import csv file \n",
        "myExploratoryData <- read.csv(\"/content/exploratory-r.csv\")"
      ],
      "execution_count": 0,
      "outputs": []
    },
    {
      "cell_type": "code",
      "metadata": {
        "id": "QEbC2xL80K8s",
        "colab_type": "code",
        "colab": {
          "base_uri": "https://localhost:8080/",
          "height": 255
        },
        "outputId": "13c9e6d6-ec92-4ed2-d632-1812ce3d964a"
      },
      "source": [
        "%%R\n",
        "# get a quick snapshot of your data\n",
        "head(myExploratoryData)"
      ],
      "execution_count": 7,
      "outputs": [
        {
          "output_type": "display_data",
          "data": {
            "text/plain": [
              "                     keyword  cpa  cvr  ctr clicks    cpc impressions var1 var2\n",
              "1              low price air 0.18 0.60 3.80      2 $6.54       118215    3    4\n",
              "2           lowest air price 9.72 0.59 3.78      4 $5.63        49244    2    2\n",
              "3   airline flight insurance 0.73 0.62 1.28      1 $2.46       104905    3    4\n",
              "4          lowest air prices 3.74 0.64 2.91      8 $5.81        81605    2    2\n",
              "5       luggage for airlines 2.61 0.56 2.70      9 $5.16        20435    2    4\n",
              "6 luggage bags for us travel 0.24 0.62 3.70      2 $3.20        20102    2    1\n",
              "  var3\n",
              "1    3\n",
              "2    2\n",
              "3    1\n",
              "4    1\n",
              "5    1\n",
              "6    2\n"
            ]
          },
          "metadata": {
            "tags": []
          }
        }
      ]
    },
    {
      "cell_type": "markdown",
      "metadata": {
        "id": "tbXodZmu1RI8",
        "colab_type": "text"
      },
      "source": [
        "Data columns in the Data set\n",
        "\n",
        "Keywords : some kerywords from the site\n"
      ]
    },
    {
      "cell_type": "code",
      "metadata": {
        "id": "rzdUSKql0YaF",
        "colab_type": "code",
        "colab": {
          "base_uri": "https://localhost:8080/",
          "height": 497
        },
        "outputId": "baad6445-666f-4ec6-9723-d12e716b0164"
      },
      "source": [
        "%%R\n",
        "# get a quick snapshot of your data column 'CPA\n",
        "hist(myExploratoryData$cpa)"
      ],
      "execution_count": 8,
      "outputs": [
        {
          "output_type": "display_data",
          "data": {
            "image/png": "[encoded data removed]"
          },
          "metadata": {
            "tags": []
          }
        }
      ]
    },
    {
      "cell_type": "code",
      "metadata": {
        "id": "bI1udx2A0eOZ",
        "colab_type": "code",
        "colab": {}
      },
      "source": [
        "%%R\n",
        "# shift the names to each row\n",
        "row.names(myExploratoryData) <- myExploratoryData$keyword\n"
      ],
      "execution_count": 0,
      "outputs": []
    },
    {
      "cell_type": "code",
      "metadata": {
        "id": "lfas-H12My7c",
        "colab_type": "code",
        "colab": {
          "base_uri": "https://localhost:8080/",
          "height": 255
        },
        "outputId": "d4b973e5-5475-416b-9420-23bdabaec253"
      },
      "source": [
        "%%R\n",
        "# review that transformation\n",
        "head(myExploratoryData)"
      ],
      "execution_count": 10,
      "outputs": [
        {
          "output_type": "display_data",
          "data": {
            "text/plain": [
              "                                              keyword  cpa  cvr  ctr clicks\n",
              "low price air                           low price air 0.18 0.60 3.80      2\n",
              "lowest air price                     lowest air price 9.72 0.59 3.78      4\n",
              "airline flight insurance     airline flight insurance 0.73 0.62 1.28      1\n",
              "lowest air prices                   lowest air prices 3.74 0.64 2.91      8\n",
              "luggage for airlines             luggage for airlines 2.61 0.56 2.70      9\n",
              "luggage bags for us travel luggage bags for us travel 0.24 0.62 3.70      2\n",
              "                              cpc impressions var1 var2 var3\n",
              "low price air              $6.54       118215    3    4    3\n",
              "lowest air price           $5.63        49244    2    2    2\n",
              "airline flight insurance   $2.46       104905    3    4    1\n",
              "lowest air prices          $5.81        81605    2    2    1\n",
              "luggage for airlines       $5.16        20435    2    4    1\n",
              "luggage bags for us travel $3.20        20102    2    1    2\n"
            ]
          },
          "metadata": {
            "tags": []
          }
        }
      ]
    },
    {
      "cell_type": "code",
      "metadata": {
        "id": "Ga49FqikMzrP",
        "colab_type": "code",
        "colab": {}
      },
      "source": [
        "%%R\n",
        "# transform into a matrix \n",
        "myDataMatrix <- data.matrix(myExploratoryData)"
      ],
      "execution_count": 0,
      "outputs": []
    },
    {
      "cell_type": "code",
      "metadata": {
        "id": "XXqo6lefM02P",
        "colab_type": "code",
        "colab": {
          "base_uri": "https://localhost:8080/",
          "height": 497
        },
        "outputId": "b9561d5e-d929-4410-ea65-d404ba9c99bb"
      },
      "source": [
        "%%R\n",
        "# generate our heatmap (which shows which of our marketing campaigns are working well and which are lagging behing)\n",
        "#heatmap(myDataMatrix)\n",
        "heatmap(myDataMatrix, Rowv = NA, Colv = NA, scale = \"column\")"
      ],
      "execution_count": 13,
      "outputs": [
        {
          "output_type": "display_data",
          "data": {
            "image/png": "[encoded data removed]"
          },
          "metadata": {
            "tags": []
          }
        }
      ]
    },
    {
      "cell_type": "code",
      "metadata": {
        "id": "ffcYwKj0PGP9",
        "colab_type": "code",
        "colab": {}
      },
      "source": [
        "%%R"
      ],
      "execution_count": 0,
      "outputs": []
    },
    {
      "cell_type": "code",
      "metadata": {
        "id": "Rq5SkjBnPJV-",
        "colab_type": "code",
        "colab": {}
      },
      "source": [
        "%%R"
      ],
      "execution_count": 0,
      "outputs": []
    },
    {
      "cell_type": "code",
      "metadata": {
        "id": "-jmRcMDyPKBb",
        "colab_type": "code",
        "colab": {}
      },
      "source": [
        "%%R"
      ],
      "execution_count": 0,
      "outputs": []
    }
  ]
}